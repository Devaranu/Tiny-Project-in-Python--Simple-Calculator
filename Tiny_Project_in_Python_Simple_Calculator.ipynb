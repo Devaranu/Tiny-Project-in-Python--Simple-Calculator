{
  "nbformat": 4,
  "nbformat_minor": 0,
  "metadata": {
    "colab": {
      "provenance": []
    },
    "kernelspec": {
      "name": "python3",
      "display_name": "Python 3"
    },
    "language_info": {
      "name": "python"
    }
  },
  "cells": [
    {
      "cell_type": "code",
      "execution_count": 2,
      "metadata": {
        "colab": {
          "base_uri": "https://localhost:8080/"
        },
        "id": "CipUOdNBeAeh",
        "outputId": "85d3d152-cebc-4d86-86a1-6781358e17be"
      },
      "outputs": [
        {
          "output_type": "stream",
          "name": "stdout",
          "text": [
            "85\n",
            "55\n",
            "40\n",
            "2.0\n"
          ]
        }
      ],
      "source": [
        "def calculator(operation, *args, **kwargs):\n",
        "\n",
        "    # Check if *args is used, and if so, convert it to a list\n",
        "    if args:\n",
        "        numbers = list(args)\n",
        "\n",
        "    # If *args is not used, use **kwargs values\n",
        "    else:\n",
        "        numbers = list(kwargs.values())\n",
        "\n",
        "    # Perform the operation based on the provided operation argument\n",
        "    if operation == 'add':\n",
        "        result = sum(numbers)\n",
        "    elif operation == 'subtract':\n",
        "        result = numbers[0]\n",
        "        for num in numbers[1:]:\n",
        "            result -= num\n",
        "    elif operation == 'multiply':\n",
        "        result = 1\n",
        "        for num in numbers:\n",
        "            result *= num\n",
        "    elif operation == 'divide':\n",
        "        result = numbers[0]\n",
        "        try:\n",
        "            for num in numbers[1:]:\n",
        "                result /= num\n",
        "        except ZeroDivisionError:\n",
        "            return \"Error: Division by zero is not allowed.\"\n",
        "    else:\n",
        "        return \"Error: Unsupported operation. Please use 'add', 'subtract', 'multiply', or 'divide'.\"\n",
        "\n",
        "    return result\n",
        "\n",
        "# Example usage\n",
        "print(calculator('add', 15, 20, 50))  # Using *args\n",
        "print(calculator('subtract', x=80, y=20, z=5))  # Using **kwargs\n",
        "print(calculator('multiply', 5, 4, 2))\n",
        "print(calculator('divide', 10, 5))\n"
      ]
    }
  ]
}